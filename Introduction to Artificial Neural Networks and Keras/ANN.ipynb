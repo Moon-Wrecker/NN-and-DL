{
 "cells": [
  {
   "cell_type": "markdown",
   "metadata": {},
   "source": [
    "# Cells Fire Together Wire Together"
   ]
  },
  {
   "cell_type": "markdown",
   "metadata": {},
   "source": [
    "* Perceptron algorithm in sklearn"
   ]
  },
  {
   "cell_type": "code",
   "execution_count": 33,
   "metadata": {},
   "outputs": [
    {
     "name": "stdout",
     "output_type": "stream",
     "text": [
      "[ True False]\n"
     ]
    }
   ],
   "source": [
    "import numpy as np\n",
    "from sklearn.datasets import load_iris\n",
    "from sklearn.linear_model import Perceptron\n",
    "\n",
    "iris = load_iris(as_frame=True)\n",
    "X = iris.data[[\"petal length (cm)\", \"petal width (cm)\"]].values\n",
    "y = (iris.target == 0) #Iris setosa\n",
    "\n",
    "per_clf =Perceptron(random_state=42)\n",
    "per_clf.fit(X,y)\n",
    "\n",
    "X_new = [[2, 0.5], [3, 0]]\n",
    "print(per_clf.predict(X_new)) \n"
   ]
  },
  {
   "cell_type": "code",
   "execution_count": 34,
   "metadata": {},
   "outputs": [],
   "source": [
    "import tensorflow as tf\n",
    "from tensorflow.keras import layers\n",
    "\n",
    "class EQL(layers.Layer):\n",
    "    def __init__(self, units, activation_functions, **kwargs):\n",
    "        super(EQL, self).__init__(**kwargs)\n",
    "        self.units = units\n",
    "        self.activation_functions = activation_functions\n",
    "        self.dense = layers.Dense(units)\n",
    "\n",
    "    def call(self, inputs):\n",
    "        x = self.dense(inputs)\n",
    "        outputs = []\n",
    "        for i, func in enumerate(self.activation_functions):\n",
    "            if isinstance(func, tuple):  # For functions with multiple inputs\n",
    "                start, end = func[1]\n",
    "                outputs.append(func[0](x[:, start:end]))\n",
    "            else:\n",
    "                outputs.append(func(x[:, i:i+1]))\n",
    "        return tf.concat(outputs, axis=1)\n",
    "\n",
    "# Example usage:\n",
    "activation_functions = [\n",
    "    tf.math.sin,\n",
    "    lambda x: x**2,\n",
    "    lambda x: x[:, 0:1] * x[:, 1:2],  # Multiplication of two inputs\n",
    "    tf.math.exp,\n",
    "]\n",
    "\n",
    "eql_layer = EQL(units=4, activation_functions=activation_functions)\n",
    "# ... rest of your model architecture ..."
   ]
  },
  {
   "cell_type": "code",
   "execution_count": 35,
   "metadata": {},
   "outputs": [
    {
     "name": "stdout",
     "output_type": "stream",
     "text": [
      "Epoch 1/100\n",
      "32/32 - 0s - 15ms/step - loss: 24.9672\n",
      "Epoch 2/100\n",
      "32/32 - 0s - 1ms/step - loss: 22.2005\n",
      "Epoch 3/100\n",
      "32/32 - 0s - 1ms/step - loss: 19.8621\n",
      "Epoch 4/100\n",
      "32/32 - 0s - 1ms/step - loss: 17.8560\n",
      "Epoch 5/100\n",
      "32/32 - 0s - 1ms/step - loss: 16.1195\n",
      "Epoch 6/100\n",
      "32/32 - 0s - 1ms/step - loss: 14.6046\n",
      "Epoch 7/100\n",
      "32/32 - 0s - 1ms/step - loss: 13.2735\n",
      "Epoch 8/100\n",
      "32/32 - 0s - 1ms/step - loss: 12.0964\n",
      "Epoch 9/100\n",
      "32/32 - 0s - 1ms/step - loss: 11.0494\n",
      "Epoch 10/100\n",
      "32/32 - 0s - 1ms/step - loss: 10.1137\n",
      "Epoch 11/100\n",
      "32/32 - 0s - 951us/step - loss: 9.2745\n",
      "Epoch 12/100\n",
      "32/32 - 0s - 981us/step - loss: 8.5198\n",
      "Epoch 13/100\n",
      "32/32 - 0s - 972us/step - loss: 7.8404\n",
      "Epoch 14/100\n",
      "32/32 - 0s - 1ms/step - loss: 7.2284\n",
      "Epoch 15/100\n",
      "32/32 - 0s - 1ms/step - loss: 6.6777\n",
      "Epoch 16/100\n",
      "32/32 - 0s - 1ms/step - loss: 6.1829\n",
      "Epoch 17/100\n",
      "32/32 - 0s - 1ms/step - loss: 5.7390\n",
      "Epoch 18/100\n",
      "32/32 - 0s - 1ms/step - loss: 5.3418\n",
      "Epoch 19/100\n",
      "32/32 - 0s - 1ms/step - loss: 4.9872\n",
      "Epoch 20/100\n",
      "32/32 - 0s - 1ms/step - loss: 4.6716\n",
      "Epoch 21/100\n",
      "32/32 - 0s - 1ms/step - loss: 4.3937\n",
      "Epoch 22/100\n",
      "32/32 - 0s - 1ms/step - loss: 4.1474\n",
      "Epoch 23/100\n",
      "32/32 - 0s - 1ms/step - loss: 3.9295\n",
      "Epoch 24/100\n",
      "32/32 - 0s - 1ms/step - loss: 3.7371\n",
      "Epoch 25/100\n",
      "32/32 - 0s - 1ms/step - loss: 3.5674\n",
      "Epoch 26/100\n",
      "32/32 - 0s - 1ms/step - loss: 3.4177\n",
      "Epoch 27/100\n",
      "32/32 - 0s - 977us/step - loss: 3.2858\n",
      "Epoch 28/100\n",
      "32/32 - 0s - 1ms/step - loss: 3.1694\n",
      "Epoch 29/100\n",
      "32/32 - 0s - 986us/step - loss: 3.0665\n",
      "Epoch 30/100\n",
      "32/32 - 0s - 1ms/step - loss: 2.9753\n",
      "Epoch 31/100\n",
      "32/32 - 0s - 960us/step - loss: 2.8943\n",
      "Epoch 32/100\n",
      "32/32 - 0s - 1ms/step - loss: 2.8220\n",
      "Epoch 33/100\n",
      "32/32 - 0s - 1ms/step - loss: 2.7572\n",
      "Epoch 34/100\n",
      "32/32 - 0s - 1ms/step - loss: 2.6989\n",
      "Epoch 35/100\n",
      "32/32 - 0s - 1ms/step - loss: 2.6460\n",
      "Epoch 36/100\n",
      "32/32 - 0s - 1ms/step - loss: 2.5978\n",
      "Epoch 37/100\n",
      "32/32 - 0s - 1ms/step - loss: 2.5536\n",
      "Epoch 38/100\n",
      "32/32 - 0s - 1ms/step - loss: 2.5128\n",
      "Epoch 39/100\n",
      "32/32 - 0s - 1ms/step - loss: 2.4749\n",
      "Epoch 40/100\n",
      "32/32 - 0s - 1ms/step - loss: 2.4395\n",
      "Epoch 41/100\n",
      "32/32 - 0s - 1ms/step - loss: 2.4062\n",
      "Epoch 42/100\n",
      "32/32 - 0s - 1ms/step - loss: 2.3748\n",
      "Epoch 43/100\n",
      "32/32 - 0s - 1ms/step - loss: 2.3450\n",
      "Epoch 44/100\n",
      "32/32 - 0s - 1ms/step - loss: 2.3165\n",
      "Epoch 45/100\n",
      "32/32 - 0s - 1ms/step - loss: 2.2893\n",
      "Epoch 46/100\n",
      "32/32 - 0s - 1ms/step - loss: 2.2632\n",
      "Epoch 47/100\n",
      "32/32 - 0s - 1ms/step - loss: 2.2381\n",
      "Epoch 48/100\n",
      "32/32 - 0s - 1ms/step - loss: 2.2139\n",
      "Epoch 49/100\n",
      "32/32 - 0s - 1ms/step - loss: 2.1904\n",
      "Epoch 50/100\n",
      "32/32 - 0s - 1ms/step - loss: 2.1678\n",
      "Epoch 51/100\n",
      "32/32 - 0s - 1ms/step - loss: 2.1458\n",
      "Epoch 52/100\n",
      "32/32 - 0s - 1ms/step - loss: 2.1245\n",
      "Epoch 53/100\n",
      "32/32 - 0s - 1ms/step - loss: 2.1038\n",
      "Epoch 54/100\n",
      "32/32 - 0s - 2ms/step - loss: 2.0837\n",
      "Epoch 55/100\n",
      "32/32 - 0s - 1ms/step - loss: 2.0642\n",
      "Epoch 56/100\n",
      "32/32 - 0s - 1ms/step - loss: 2.0452\n",
      "Epoch 57/100\n",
      "32/32 - 0s - 1ms/step - loss: 2.0267\n",
      "Epoch 58/100\n",
      "32/32 - 0s - 1ms/step - loss: 2.0087\n",
      "Epoch 59/100\n",
      "32/32 - 0s - 1ms/step - loss: 1.9911\n",
      "Epoch 60/100\n",
      "32/32 - 0s - 1ms/step - loss: 1.9740\n",
      "Epoch 61/100\n",
      "32/32 - 0s - 1ms/step - loss: 1.9574\n",
      "Epoch 62/100\n",
      "32/32 - 0s - 2ms/step - loss: 1.9411\n",
      "Epoch 63/100\n",
      "32/32 - 0s - 1ms/step - loss: 1.9253\n",
      "Epoch 64/100\n",
      "32/32 - 0s - 1ms/step - loss: 1.9098\n",
      "Epoch 65/100\n",
      "32/32 - 0s - 1ms/step - loss: 1.8947\n",
      "Epoch 66/100\n",
      "32/32 - 0s - 1ms/step - loss: 1.8800\n",
      "Epoch 67/100\n",
      "32/32 - 0s - 1ms/step - loss: 1.8656\n",
      "Epoch 68/100\n",
      "32/32 - 0s - 1ms/step - loss: 1.8515\n",
      "Epoch 69/100\n",
      "32/32 - 0s - 1ms/step - loss: 1.8377\n",
      "Epoch 70/100\n",
      "32/32 - 0s - 1ms/step - loss: 1.8243\n",
      "Epoch 71/100\n",
      "32/32 - 0s - 1ms/step - loss: 1.8111\n",
      "Epoch 72/100\n",
      "32/32 - 0s - 1ms/step - loss: 1.7982\n",
      "Epoch 73/100\n",
      "32/32 - 0s - 1ms/step - loss: 1.7855\n",
      "Epoch 74/100\n",
      "32/32 - 0s - 1ms/step - loss: 1.7730\n",
      "Epoch 75/100\n",
      "32/32 - 0s - 1ms/step - loss: 1.7608\n",
      "Epoch 76/100\n",
      "32/32 - 0s - 1ms/step - loss: 1.7488\n",
      "Epoch 77/100\n",
      "32/32 - 0s - 1ms/step - loss: 1.7370\n",
      "Epoch 78/100\n",
      "32/32 - 0s - 1ms/step - loss: 1.7254\n",
      "Epoch 79/100\n",
      "32/32 - 0s - 1ms/step - loss: 1.7139\n",
      "Epoch 80/100\n",
      "32/32 - 0s - 1ms/step - loss: 1.7026\n",
      "Epoch 81/100\n",
      "32/32 - 0s - 1ms/step - loss: 1.6915\n",
      "Epoch 82/100\n",
      "32/32 - 0s - 1ms/step - loss: 1.6804\n",
      "Epoch 83/100\n",
      "32/32 - 0s - 1ms/step - loss: 1.6695\n",
      "Epoch 84/100\n",
      "32/32 - 0s - 939us/step - loss: 1.6587\n",
      "Epoch 85/100\n",
      "32/32 - 0s - 1ms/step - loss: 1.6479\n",
      "Epoch 86/100\n",
      "32/32 - 0s - 1ms/step - loss: 1.6373\n",
      "Epoch 87/100\n",
      "32/32 - 0s - 953us/step - loss: 1.6266\n",
      "Epoch 88/100\n",
      "32/32 - 0s - 1ms/step - loss: 1.6161\n",
      "Epoch 89/100\n",
      "32/32 - 0s - 990us/step - loss: 1.6055\n",
      "Epoch 90/100\n",
      "32/32 - 0s - 1ms/step - loss: 1.5949\n",
      "Epoch 91/100\n",
      "32/32 - 0s - 1ms/step - loss: 1.5843\n",
      "Epoch 92/100\n",
      "32/32 - 0s - 1ms/step - loss: 1.5737\n",
      "Epoch 93/100\n",
      "32/32 - 0s - 948us/step - loss: 1.5631\n",
      "Epoch 94/100\n",
      "32/32 - 0s - 1ms/step - loss: 1.5523\n",
      "Epoch 95/100\n",
      "32/32 - 0s - 980us/step - loss: 1.5415\n",
      "Epoch 96/100\n",
      "32/32 - 0s - 1ms/step - loss: 1.5305\n",
      "Epoch 97/100\n",
      "32/32 - 0s - 962us/step - loss: 1.5194\n",
      "Epoch 98/100\n",
      "32/32 - 0s - 1ms/step - loss: 1.5082\n",
      "Epoch 99/100\n",
      "32/32 - 0s - 937us/step - loss: 1.4967\n",
      "Epoch 100/100\n",
      "32/32 - 0s - 1ms/step - loss: 1.4850\n",
      "EQL Dense Layer Kernel:\n",
      "[[-0.31194395 -0.66285414]]\n",
      "\u001b[1m10/10\u001b[0m \u001b[32m━━━━━━━━━━━━━━━━━━━━\u001b[0m\u001b[37m\u001b[0m \u001b[1m0s\u001b[0m 3ms/step \n"
     ]
    },
    {
     "data": {
      "image/png": "[encoded data removed]",
      "text/plain": [
       "<Figure size 640x480 with 1 Axes>"
      ]
     },
     "metadata": {},
     "output_type": "display_data"
    }
   ],
   "source": [
    "import tensorflow as tf\n",
    "from tensorflow.keras import layers, models, losses, optimizers\n",
    "\n",
    "\n",
    "# Define the target function\n",
    "def target_function(x):\n",
    "    return x**2 + tf.math.sin(x)\n",
    "\n",
    "# Generate training data\n",
    "x_train = tf.random.uniform((1000, 1), minval=-2, maxval=2)\n",
    "y_train = target_function(x_train)\n",
    "\n",
    "# Define the model\n",
    "inputs = layers.Input(shape=(1,))\n",
    "x = EQL(units=2, activation_functions=[tf.math.sin, lambda x: x**2])(inputs)\n",
    "outputs = layers.Dense(1)(x)\n",
    "model = models.Model(inputs=inputs, outputs=outputs)\n",
    "\n",
    "# Define the loss function with L0.5 regularization\n",
    "def sparse_loss(y_true, y_pred):\n",
    "    mse = losses.MeanSquaredError()(y_true, y_pred)\n",
    "    l05 = tf.reduce_sum(tf.abs(model.layers[1].dense.kernel)**0.5)  # L0.5 on EQL weights\n",
    "    return mse + 0.01 * l05  # Adjust regularization strength as needed\n",
    "\n",
    "# Compile the model\n",
    "model.compile(optimizer=optimizers.Adam(), loss=sparse_loss)\n",
    "\n",
    "# Train the model\n",
    "model.fit(x_train, y_train, epochs=100, verbose=2)\n",
    "\n",
    "# Print the learned EQL weights\n",
    "print(\"EQL Dense Layer Kernel:\")\n",
    "print(model.layers[1].dense.kernel.numpy())\n",
    "\n",
    "# Evaluate the model\n",
    "x_test = tf.linspace(-3, 3, 300)\n",
    "y_test = target_function(x_test)\n",
    "y_pred = model.predict(x_test)\n",
    "\n",
    "# Plot the results\n",
    "import matplotlib.pyplot as plt\n",
    "plt.plot(x_test, y_test, label=\"True Function\")\n",
    "plt.plot(x_test, y_pred, label=\"Learned Function\")\n",
    "plt.legend()\n",
    "plt.show()"
   ]
  },
  {
   "cell_type": "markdown",
   "metadata": {},
   "source": [
    "# Building a Image Classifier Using the Sequential API"
   ]
  },
  {
   "cell_type": "code",
   "execution_count": 36,
   "metadata": {},
   "outputs": [],
   "source": [
    "import tensorflow as tf\n",
    "\n",
    "fashion_mnist = tf.keras.datasets.fashion_mnist.load_data()"
   ]
  },
  {
   "cell_type": "code",
   "execution_count": 37,
   "metadata": {},
   "outputs": [],
   "source": [
    "(X_train_full, y_train_full), (X_test, y_test) = fashion_mnist"
   ]
  },
  {
   "cell_type": "code",
   "execution_count": 38,
   "metadata": {},
   "outputs": [],
   "source": [
    "X_train, y_train = X_train_full[:-5000], y_train_full[:-5000]\n",
    "X_valid, y_valid = X_train_full[-5000:], y_train_full[-5000:]"
   ]
  },
  {
   "cell_type": "code",
   "execution_count": 39,
   "metadata": {},
   "outputs": [
    {
     "data": {
      "text/plain": [
       "dtype('uint8')"
      ]
     },
     "execution_count": 39,
     "metadata": {},
     "output_type": "execute_result"
    }
   ],
   "source": [
    "X_train.dtype"
   ]
  },
  {
   "cell_type": "code",
   "execution_count": 40,
   "metadata": {},
   "outputs": [
    {
     "data": {
      "text/plain": [
       "(55000, 28, 28)"
      ]
     },
     "execution_count": 40,
     "metadata": {},
     "output_type": "execute_result"
    }
   ],
   "source": [
    "X_train.shape"
   ]
  },
  {
   "cell_type": "code",
   "execution_count": 41,
   "metadata": {},
   "outputs": [],
   "source": [
    "import matplotlib.pyplot as plt\n",
    "from matplotlib.colors import ListedColormap"
   ]
  },
  {
   "cell_type": "code",
   "execution_count": 42,
   "metadata": {},
   "outputs": [
    {
     "data": {
      "image/png": "[encoded data removed]",
      "text/plain": [
       "<Figure size 640x480 with 1 Axes>"
      ]
     },
     "metadata": {},
     "output_type": "display_data"
    }
   ],
   "source": [
    "plt.imshow(X_train[0], cmap=\"binary\")\n",
    "plt.show()"
   ]
  },
  {
   "cell_type": "code",
   "execution_count": 43,
   "metadata": {},
   "outputs": [],
   "source": [
    "X_train, X_valid, X_test = X_train/255., X_valid/255., X_test/255."
   ]
  },
  {
   "cell_type": "code",
   "execution_count": 44,
   "metadata": {},
   "outputs": [],
   "source": [
    "class_names = [\"T-shirt/top\", \"Trouser\", \"Pullover\", \"Dress\", \"Coat\", \"Sandal\", \"Shirt\", \"Sneaker\", \"Bag\", \"Ankel Boot\"]"
   ]
  },
  {
   "cell_type": "code",
   "execution_count": 45,
   "metadata": {},
   "outputs": [
    {
     "data": {
      "text/plain": [
       "'Ankel Boot'"
      ]
     },
     "execution_count": 45,
     "metadata": {},
     "output_type": "execute_result"
    }
   ],
   "source": [
    "class_names[y_train[0]]"
   ]
  },
  {
   "cell_type": "code",
   "execution_count": 46,
   "metadata": {},
   "outputs": [],
   "source": [
    "tf.random.set_seed(42) #random seed to produce the reproducible outputs"
   ]
  },
  {
   "cell_type": "code",
   "execution_count": 47,
   "metadata": {},
   "outputs": [],
   "source": [
    "model = tf.keras.Sequential() #simplest form of neural network where each layer is connected to each other\n",
    "model.add(tf.keras.layers.Input(shape = [28, 28])) # building the first layer(Input layer) and adding it to model\n",
    "model.add(tf.keras.layers.Flatten()) # simple preprocessing step to convert each image into 1D\n",
    "model.add(tf.keras.layers.Dense(300, activation=\"relu\")) # input layer\n",
    "model.add(tf.keras.layers.Dense(100, activation=\"relu\"))\n",
    "model.add(tf.keras.layers.Dense(10, activation=\"softmax\")) #output layer"
   ]
  },
  {
   "cell_type": "code",
   "execution_count": 48,
   "metadata": {},
   "outputs": [
    {
     "data": {
      "text/html": [
       "<pre style=\"white-space:pre;overflow-x:auto;line-height:normal;font-family:Menlo,'DejaVu Sans Mono',consolas,'Courier New',monospace\"><span style=\"font-weight: bold\">Model: \"sequential_1\"</span>\n",
       "</pre>\n"
      ],
      "text/plain": [
       "\u001b[1mModel: \"sequential_1\"\u001b[0m\n"
      ]
     },
     "metadata": {},
     "output_type": "display_data"
    },
    {
     "data": {
      "text/html": [
       "<pre style=\"white-space:pre;overflow-x:auto;line-height:normal;font-family:Menlo,'DejaVu Sans Mono',consolas,'Courier New',monospace\">┏━━━━━━━━━━━━━━━━━━━━━━━━━━━━━━━━━┳━━━━━━━━━━━━━━━━━━━━━━━━┳━━━━━━━━━━━━━━━┓\n",
       "┃<span style=\"font-weight: bold\"> Layer (type)                    </span>┃<span style=\"font-weight: bold\"> Output Shape           </span>┃<span style=\"font-weight: bold\">       Param # </span>┃\n",
       "┡━━━━━━━━━━━━━━━━━━━━━━━━━━━━━━━━━╇━━━━━━━━━━━━━━━━━━━━━━━━╇━━━━━━━━━━━━━━━┩\n",
       "│ flatten_1 (<span style=\"color: #0087ff; text-decoration-color: #0087ff\">Flatten</span>)             │ (<span style=\"color: #00d7ff; text-decoration-color: #00d7ff\">None</span>, <span style=\"color: #00af00; text-decoration-color: #00af00\">784</span>)            │             <span style=\"color: #00af00; text-decoration-color: #00af00\">0</span> │\n",
       "├─────────────────────────────────┼────────────────────────┼───────────────┤\n",
       "│ dense_9 (<span style=\"color: #0087ff; text-decoration-color: #0087ff\">Dense</span>)                 │ (<span style=\"color: #00d7ff; text-decoration-color: #00d7ff\">None</span>, <span style=\"color: #00af00; text-decoration-color: #00af00\">300</span>)            │       <span style=\"color: #00af00; text-decoration-color: #00af00\">235,500</span> │\n",
       "├─────────────────────────────────┼────────────────────────┼───────────────┤\n",
       "│ dense_10 (<span style=\"color: #0087ff; text-decoration-color: #0087ff\">Dense</span>)                │ (<span style=\"color: #00d7ff; text-decoration-color: #00d7ff\">None</span>, <span style=\"color: #00af00; text-decoration-color: #00af00\">100</span>)            │        <span style=\"color: #00af00; text-decoration-color: #00af00\">30,100</span> │\n",
       "├─────────────────────────────────┼────────────────────────┼───────────────┤\n",
       "│ dense_11 (<span style=\"color: #0087ff; text-decoration-color: #0087ff\">Dense</span>)                │ (<span style=\"color: #00d7ff; text-decoration-color: #00d7ff\">None</span>, <span style=\"color: #00af00; text-decoration-color: #00af00\">10</span>)             │         <span style=\"color: #00af00; text-decoration-color: #00af00\">1,010</span> │\n",
       "└─────────────────────────────────┴────────────────────────┴───────────────┘\n",
       "</pre>\n"
      ],
      "text/plain": [
       "┏━━━━━━━━━━━━━━━━━━━━━━━━━━━━━━━━━┳━━━━━━━━━━━━━━━━━━━━━━━━┳━━━━━━━━━━━━━━━┓\n",
       "┃\u001b[1m \u001b[0m\u001b[1mLayer (type)                   \u001b[0m\u001b[1m \u001b[0m┃\u001b[1m \u001b[0m\u001b[1mOutput Shape          \u001b[0m\u001b[1m \u001b[0m┃\u001b[1m \u001b[0m\u001b[1m      Param #\u001b[0m\u001b[1m \u001b[0m┃\n",
       "┡━━━━━━━━━━━━━━━━━━━━━━━━━━━━━━━━━╇━━━━━━━━━━━━━━━━━━━━━━━━╇━━━━━━━━━━━━━━━┩\n",
       "│ flatten_1 (\u001b[38;5;33mFlatten\u001b[0m)             │ (\u001b[38;5;45mNone\u001b[0m, \u001b[38;5;34m784\u001b[0m)            │             \u001b[38;5;34m0\u001b[0m │\n",
       "├─────────────────────────────────┼────────────────────────┼───────────────┤\n",
       "│ dense_9 (\u001b[38;5;33mDense\u001b[0m)                 │ (\u001b[38;5;45mNone\u001b[0m, \u001b[38;5;34m300\u001b[0m)            │       \u001b[38;5;34m235,500\u001b[0m │\n",
       "├─────────────────────────────────┼────────────────────────┼───────────────┤\n",
       "│ dense_10 (\u001b[38;5;33mDense\u001b[0m)                │ (\u001b[38;5;45mNone\u001b[0m, \u001b[38;5;34m100\u001b[0m)            │        \u001b[38;5;34m30,100\u001b[0m │\n",
       "├─────────────────────────────────┼────────────────────────┼───────────────┤\n",
       "│ dense_11 (\u001b[38;5;33mDense\u001b[0m)                │ (\u001b[38;5;45mNone\u001b[0m, \u001b[38;5;34m10\u001b[0m)             │         \u001b[38;5;34m1,010\u001b[0m │\n",
       "└─────────────────────────────────┴────────────────────────┴───────────────┘\n"
      ]
     },
     "metadata": {},
     "output_type": "display_data"
    },
    {
     "data": {
      "text/html": [
       "<pre style=\"white-space:pre;overflow-x:auto;line-height:normal;font-family:Menlo,'DejaVu Sans Mono',consolas,'Courier New',monospace\"><span style=\"font-weight: bold\"> Total params: </span><span style=\"color: #00af00; text-decoration-color: #00af00\">266,610</span> (1.02 MB)\n",
       "</pre>\n"
      ],
      "text/plain": [
       "\u001b[1m Total params: \u001b[0m\u001b[38;5;34m266,610\u001b[0m (1.02 MB)\n"
      ]
     },
     "metadata": {},
     "output_type": "display_data"
    },
    {
     "data": {
      "text/html": [
       "<pre style=\"white-space:pre;overflow-x:auto;line-height:normal;font-family:Menlo,'DejaVu Sans Mono',consolas,'Courier New',monospace\"><span style=\"font-weight: bold\"> Trainable params: </span><span style=\"color: #00af00; text-decoration-color: #00af00\">266,610</span> (1.02 MB)\n",
       "</pre>\n"
      ],
      "text/plain": [
       "\u001b[1m Trainable params: \u001b[0m\u001b[38;5;34m266,610\u001b[0m (1.02 MB)\n"
      ]
     },
     "metadata": {},
     "output_type": "display_data"
    },
    {
     "data": {
      "text/html": [
       "<pre style=\"white-space:pre;overflow-x:auto;line-height:normal;font-family:Menlo,'DejaVu Sans Mono',consolas,'Courier New',monospace\"><span style=\"font-weight: bold\"> Non-trainable params: </span><span style=\"color: #00af00; text-decoration-color: #00af00\">0</span> (0.00 B)\n",
       "</pre>\n"
      ],
      "text/plain": [
       "\u001b[1m Non-trainable params: \u001b[0m\u001b[38;5;34m0\u001b[0m (0.00 B)\n"
      ]
     },
     "metadata": {},
     "output_type": "display_data"
    }
   ],
   "source": [
    "model.summary()"
   ]
  },
  {
   "cell_type": "code",
   "execution_count": 49,
   "metadata": {},
   "outputs": [],
   "source": [
    "model.compile(loss=\"sparse_categorical_crossentropy\", \n",
    "              optimizer=\"sgd\", \n",
    "              metrics=[\"accuracy\"])"
   ]
  },
  {
   "cell_type": "code",
   "execution_count": 50,
   "metadata": {},
   "outputs": [
    {
     "name": "stdout",
     "output_type": "stream",
     "text": [
      "Epoch 1/50\n",
      "\u001b[1m1719/1719\u001b[0m \u001b[32m━━━━━━━━━━━━━━━━━━━━\u001b[0m\u001b[37m\u001b[0m \u001b[1m2s\u001b[0m 1ms/step - accuracy: 0.6747 - loss: 1.0050 - val_accuracy: 0.8254 - val_loss: 0.5117\n",
      "Epoch 2/50\n",
      "\u001b[1m1719/1719\u001b[0m \u001b[32m━━━━━━━━━━━━━━━━━━━━\u001b[0m\u001b[37m\u001b[0m \u001b[1m2s\u001b[0m 896us/step - accuracy: 0.8238 - loss: 0.5120 - val_accuracy: 0.8398 - val_loss: 0.4535\n",
      "Epoch 3/50\n",
      "\u001b[1m1719/1719\u001b[0m \u001b[32m━━━━━━━━━━━━━━━━━━━━\u001b[0m\u001b[37m\u001b[0m \u001b[1m1s\u001b[0m 845us/step - accuracy: 0.8419 - loss: 0.4560 - val_accuracy: 0.8502 - val_loss: 0.4274\n",
      "Epoch 4/50\n",
      "\u001b[1m1719/1719\u001b[0m \u001b[32m━━━━━━━━━━━━━━━━━━━━\u001b[0m\u001b[37m\u001b[0m \u001b[1m2s\u001b[0m 864us/step - accuracy: 0.8521 - loss: 0.4247 - val_accuracy: 0.8534 - val_loss: 0.4126\n",
      "Epoch 5/50\n",
      "\u001b[1m1719/1719\u001b[0m \u001b[32m━━━━━━━━━━━━━━━━━━━━\u001b[0m\u001b[37m\u001b[0m \u001b[1m2s\u001b[0m 930us/step - accuracy: 0.8592 - loss: 0.4031 - val_accuracy: 0.8562 - val_loss: 0.4019\n",
      "Epoch 6/50\n",
      "\u001b[1m1719/1719\u001b[0m \u001b[32m━━━━━━━━━━━━━━━━━━━━\u001b[0m\u001b[37m\u001b[0m \u001b[1m1s\u001b[0m 855us/step - accuracy: 0.8646 - loss: 0.3860 - val_accuracy: 0.8592 - val_loss: 0.3938\n",
      "Epoch 7/50\n",
      "\u001b[1m1719/1719\u001b[0m \u001b[32m━━━━━━━━━━━━━━━━━━━━\u001b[0m\u001b[37m\u001b[0m \u001b[1m1s\u001b[0m 839us/step - accuracy: 0.8689 - loss: 0.3716 - val_accuracy: 0.8630 - val_loss: 0.3851\n",
      "Epoch 8/50\n",
      "\u001b[1m1719/1719\u001b[0m \u001b[32m━━━━━━━━━━━━━━━━━━━━\u001b[0m\u001b[37m\u001b[0m \u001b[1m1s\u001b[0m 842us/step - accuracy: 0.8732 - loss: 0.3589 - val_accuracy: 0.8654 - val_loss: 0.3772\n",
      "Epoch 9/50\n",
      "\u001b[1m1719/1719\u001b[0m \u001b[32m━━━━━━━━━━━━━━━━━━━━\u001b[0m\u001b[37m\u001b[0m \u001b[1m1s\u001b[0m 861us/step - accuracy: 0.8768 - loss: 0.3477 - val_accuracy: 0.8682 - val_loss: 0.3700\n",
      "Epoch 10/50\n",
      "\u001b[1m1719/1719\u001b[0m \u001b[32m━━━━━━━━━━━━━━━━━━━━\u001b[0m\u001b[37m\u001b[0m \u001b[1m2s\u001b[0m 864us/step - accuracy: 0.8801 - loss: 0.3375 - val_accuracy: 0.8694 - val_loss: 0.3645\n",
      "Epoch 11/50\n",
      "\u001b[1m1719/1719\u001b[0m \u001b[32m━━━━━━━━━━━━━━━━━━━━\u001b[0m\u001b[37m\u001b[0m \u001b[1m1s\u001b[0m 814us/step - accuracy: 0.8831 - loss: 0.3282 - val_accuracy: 0.8722 - val_loss: 0.3601\n",
      "Epoch 12/50\n",
      "\u001b[1m1719/1719\u001b[0m \u001b[32m━━━━━━━━━━━━━━━━━━━━\u001b[0m\u001b[37m\u001b[0m \u001b[1m1s\u001b[0m 824us/step - accuracy: 0.8854 - loss: 0.3197 - val_accuracy: 0.8742 - val_loss: 0.3556\n",
      "Epoch 13/50\n",
      "\u001b[1m1719/1719\u001b[0m \u001b[32m━━━━━━━━━━━━━━━━━━━━\u001b[0m\u001b[37m\u001b[0m \u001b[1m1s\u001b[0m 811us/step - accuracy: 0.8877 - loss: 0.3118 - val_accuracy: 0.8754 - val_loss: 0.3531\n",
      "Epoch 14/50\n",
      "\u001b[1m1719/1719\u001b[0m \u001b[32m━━━━━━━━━━━━━━━━━━━━\u001b[0m\u001b[37m\u001b[0m \u001b[1m1s\u001b[0m 811us/step - accuracy: 0.8909 - loss: 0.3045 - val_accuracy: 0.8780 - val_loss: 0.3501\n",
      "Epoch 15/50\n",
      "\u001b[1m1719/1719\u001b[0m \u001b[32m━━━━━━━━━━━━━━━━━━━━\u001b[0m\u001b[37m\u001b[0m \u001b[1m1s\u001b[0m 853us/step - accuracy: 0.8933 - loss: 0.2974 - val_accuracy: 0.8788 - val_loss: 0.3459\n",
      "Epoch 16/50\n",
      "\u001b[1m1719/1719\u001b[0m \u001b[32m━━━━━━━━━━━━━━━━━━━━\u001b[0m\u001b[37m\u001b[0m \u001b[1m1s\u001b[0m 849us/step - accuracy: 0.8956 - loss: 0.2912 - val_accuracy: 0.8794 - val_loss: 0.3441\n",
      "Epoch 17/50\n",
      "\u001b[1m1719/1719\u001b[0m \u001b[32m━━━━━━━━━━━━━━━━━━━━\u001b[0m\u001b[37m\u001b[0m \u001b[1m1s\u001b[0m 846us/step - accuracy: 0.8979 - loss: 0.2849 - val_accuracy: 0.8796 - val_loss: 0.3427\n",
      "Epoch 18/50\n",
      "\u001b[1m1719/1719\u001b[0m \u001b[32m━━━━━━━━━━━━━━━━━━━━\u001b[0m\u001b[37m\u001b[0m \u001b[1m1s\u001b[0m 842us/step - accuracy: 0.9002 - loss: 0.2792 - val_accuracy: 0.8800 - val_loss: 0.3424\n",
      "Epoch 19/50\n",
      "\u001b[1m1719/1719\u001b[0m \u001b[32m━━━━━━━━━━━━━━━━━━━━\u001b[0m\u001b[37m\u001b[0m \u001b[1m1s\u001b[0m 847us/step - accuracy: 0.9024 - loss: 0.2737 - val_accuracy: 0.8794 - val_loss: 0.3410\n",
      "Epoch 20/50\n",
      "\u001b[1m1719/1719\u001b[0m \u001b[32m━━━━━━━━━━━━━━━━━━━━\u001b[0m\u001b[37m\u001b[0m \u001b[1m1s\u001b[0m 845us/step - accuracy: 0.9045 - loss: 0.2683 - val_accuracy: 0.8792 - val_loss: 0.3404\n",
      "Epoch 21/50\n",
      "\u001b[1m1719/1719\u001b[0m \u001b[32m━━━━━━━━━━━━━━━━━━━━\u001b[0m\u001b[37m\u001b[0m \u001b[1m1s\u001b[0m 838us/step - accuracy: 0.9060 - loss: 0.2634 - val_accuracy: 0.8798 - val_loss: 0.3404\n",
      "Epoch 22/50\n",
      "\u001b[1m1719/1719\u001b[0m \u001b[32m━━━━━━━━━━━━━━━━━━━━\u001b[0m\u001b[37m\u001b[0m \u001b[1m1s\u001b[0m 859us/step - accuracy: 0.9077 - loss: 0.2587 - val_accuracy: 0.8786 - val_loss: 0.3404\n",
      "Epoch 23/50\n",
      "\u001b[1m1719/1719\u001b[0m \u001b[32m━━━━━━━━━━━━━━━━━━━━\u001b[0m\u001b[37m\u001b[0m \u001b[1m1s\u001b[0m 838us/step - accuracy: 0.9095 - loss: 0.2538 - val_accuracy: 0.8772 - val_loss: 0.3404\n",
      "Epoch 24/50\n",
      "\u001b[1m1719/1719\u001b[0m \u001b[32m━━━━━━━━━━━━━━━━━━━━\u001b[0m\u001b[37m\u001b[0m \u001b[1m1s\u001b[0m 846us/step - accuracy: 0.9110 - loss: 0.2495 - val_accuracy: 0.8770 - val_loss: 0.3404\n",
      "Epoch 25/50\n",
      "\u001b[1m1719/1719\u001b[0m \u001b[32m━━━━━━━━━━━━━━━━━━━━\u001b[0m\u001b[37m\u001b[0m \u001b[1m2s\u001b[0m 903us/step - accuracy: 0.9130 - loss: 0.2451 - val_accuracy: 0.8762 - val_loss: 0.3397\n",
      "Epoch 26/50\n",
      "\u001b[1m1719/1719\u001b[0m \u001b[32m━━━━━━━━━━━━━━━━━━━━\u001b[0m\u001b[37m\u001b[0m \u001b[1m1s\u001b[0m 851us/step - accuracy: 0.9148 - loss: 0.2409 - val_accuracy: 0.8764 - val_loss: 0.3410\n",
      "Epoch 27/50\n",
      "\u001b[1m1719/1719\u001b[0m \u001b[32m━━━━━━━━━━━━━━━━━━━━\u001b[0m\u001b[37m\u001b[0m \u001b[1m2s\u001b[0m 926us/step - accuracy: 0.9159 - loss: 0.2368 - val_accuracy: 0.8758 - val_loss: 0.3393\n",
      "Epoch 28/50\n",
      "\u001b[1m1719/1719\u001b[0m \u001b[32m━━━━━━━━━━━━━━━━━━━━\u001b[0m\u001b[37m\u001b[0m \u001b[1m2s\u001b[0m 972us/step - accuracy: 0.9175 - loss: 0.2329 - val_accuracy: 0.8774 - val_loss: 0.3401\n",
      "Epoch 29/50\n",
      "\u001b[1m1719/1719\u001b[0m \u001b[32m━━━━━━━━━━━━━━━━━━━━\u001b[0m\u001b[37m\u001b[0m \u001b[1m2s\u001b[0m 999us/step - accuracy: 0.9187 - loss: 0.2289 - val_accuracy: 0.8774 - val_loss: 0.3393\n",
      "Epoch 30/50\n",
      "\u001b[1m1719/1719\u001b[0m \u001b[32m━━━━━━━━━━━━━━━━━━━━\u001b[0m\u001b[37m\u001b[0m \u001b[1m2s\u001b[0m 1ms/step - accuracy: 0.9195 - loss: 0.2252 - val_accuracy: 0.8764 - val_loss: 0.3417\n",
      "Epoch 31/50\n",
      "\u001b[1m1719/1719\u001b[0m \u001b[32m━━━━━━━━━━━━━━━━━━━━\u001b[0m\u001b[37m\u001b[0m \u001b[1m2s\u001b[0m 1ms/step - accuracy: 0.9213 - loss: 0.2215 - val_accuracy: 0.8764 - val_loss: 0.3405\n",
      "Epoch 32/50\n",
      "\u001b[1m1719/1719\u001b[0m \u001b[32m━━━━━━━━━━━━━━━━━━━━\u001b[0m\u001b[37m\u001b[0m \u001b[1m2s\u001b[0m 1ms/step - accuracy: 0.9226 - loss: 0.2178 - val_accuracy: 0.8774 - val_loss: 0.3393\n",
      "Epoch 33/50\n",
      "\u001b[1m1719/1719\u001b[0m \u001b[32m━━━━━━━━━━━━━━━━━━━━\u001b[0m\u001b[37m\u001b[0m \u001b[1m3s\u001b[0m 2ms/step - accuracy: 0.9247 - loss: 0.2142 - val_accuracy: 0.8764 - val_loss: 0.3400\n",
      "Epoch 34/50\n",
      "\u001b[1m1719/1719\u001b[0m \u001b[32m━━━━━━━━━━━━━━━━━━━━\u001b[0m\u001b[37m\u001b[0m \u001b[1m3s\u001b[0m 1ms/step - accuracy: 0.9259 - loss: 0.2105 - val_accuracy: 0.8770 - val_loss: 0.3415\n",
      "Epoch 35/50\n",
      "\u001b[1m1719/1719\u001b[0m \u001b[32m━━━━━━━━━━━━━━━━━━━━\u001b[0m\u001b[37m\u001b[0m \u001b[1m2s\u001b[0m 1ms/step - accuracy: 0.9280 - loss: 0.2069 - val_accuracy: 0.8780 - val_loss: 0.3396\n",
      "Epoch 36/50\n",
      "\u001b[1m1719/1719\u001b[0m \u001b[32m━━━━━━━━━━━━━━━━━━━━\u001b[0m\u001b[37m\u001b[0m \u001b[1m2s\u001b[0m 1ms/step - accuracy: 0.9288 - loss: 0.2035 - val_accuracy: 0.8762 - val_loss: 0.3399\n",
      "Epoch 37/50\n",
      "\u001b[1m1719/1719\u001b[0m \u001b[32m━━━━━━━━━━━━━━━━━━━━\u001b[0m\u001b[37m\u001b[0m \u001b[1m2s\u001b[0m 1ms/step - accuracy: 0.9297 - loss: 0.2001 - val_accuracy: 0.8762 - val_loss: 0.3412\n",
      "Epoch 38/50\n",
      "\u001b[1m1719/1719\u001b[0m \u001b[32m━━━━━━━━━━━━━━━━━━━━\u001b[0m\u001b[37m\u001b[0m \u001b[1m2s\u001b[0m 981us/step - accuracy: 0.9310 - loss: 0.1966 - val_accuracy: 0.8770 - val_loss: 0.3410\n",
      "Epoch 39/50\n",
      "\u001b[1m1719/1719\u001b[0m \u001b[32m━━━━━━━━━━━━━━━━━━━━\u001b[0m\u001b[37m\u001b[0m \u001b[1m2s\u001b[0m 1ms/step - accuracy: 0.9316 - loss: 0.1933 - val_accuracy: 0.8772 - val_loss: 0.3419\n",
      "Epoch 40/50\n",
      "\u001b[1m1719/1719\u001b[0m \u001b[32m━━━━━━━━━━━━━━━━━━━━\u001b[0m\u001b[37m\u001b[0m \u001b[1m2s\u001b[0m 990us/step - accuracy: 0.9329 - loss: 0.1899 - val_accuracy: 0.8774 - val_loss: 0.3447\n",
      "Epoch 41/50\n",
      "\u001b[1m1719/1719\u001b[0m \u001b[32m━━━━━━━━━━━━━━━━━━━━\u001b[0m\u001b[37m\u001b[0m \u001b[1m2s\u001b[0m 990us/step - accuracy: 0.9343 - loss: 0.1869 - val_accuracy: 0.8782 - val_loss: 0.3458\n",
      "Epoch 42/50\n",
      "\u001b[1m1719/1719\u001b[0m \u001b[32m━━━━━━━━━━━━━━━━━━━━\u001b[0m\u001b[37m\u001b[0m \u001b[1m2s\u001b[0m 951us/step - accuracy: 0.9351 - loss: 0.1838 - val_accuracy: 0.8786 - val_loss: 0.3469\n",
      "Epoch 43/50\n",
      "\u001b[1m1719/1719\u001b[0m \u001b[32m━━━━━━━━━━━━━━━━━━━━\u001b[0m\u001b[37m\u001b[0m \u001b[1m2s\u001b[0m 1ms/step - accuracy: 0.9369 - loss: 0.1807 - val_accuracy: 0.8774 - val_loss: 0.3482\n",
      "Epoch 44/50\n",
      "\u001b[1m1719/1719\u001b[0m \u001b[32m━━━━━━━━━━━━━━━━━━━━\u001b[0m\u001b[37m\u001b[0m \u001b[1m2s\u001b[0m 1ms/step - accuracy: 0.9381 - loss: 0.1774 - val_accuracy: 0.8792 - val_loss: 0.3472\n",
      "Epoch 45/50\n",
      "\u001b[1m1719/1719\u001b[0m \u001b[32m━━━━━━━━━━━━━━━━━━━━\u001b[0m\u001b[37m\u001b[0m \u001b[1m2s\u001b[0m 978us/step - accuracy: 0.9393 - loss: 0.1747 - val_accuracy: 0.8782 - val_loss: 0.3476\n",
      "Epoch 46/50\n",
      "\u001b[1m1719/1719\u001b[0m \u001b[32m━━━━━━━━━━━━━━━━━━━━\u001b[0m\u001b[37m\u001b[0m \u001b[1m2s\u001b[0m 938us/step - accuracy: 0.9401 - loss: 0.1715 - val_accuracy: 0.8792 - val_loss: 0.3485\n",
      "Epoch 47/50\n",
      "\u001b[1m1719/1719\u001b[0m \u001b[32m━━━━━━━━━━━━━━━━━━━━\u001b[0m\u001b[37m\u001b[0m \u001b[1m2s\u001b[0m 976us/step - accuracy: 0.9415 - loss: 0.1684 - val_accuracy: 0.8796 - val_loss: 0.3491\n",
      "Epoch 48/50\n",
      "\u001b[1m1719/1719\u001b[0m \u001b[32m━━━━━━━━━━━━━━━━━━━━\u001b[0m\u001b[37m\u001b[0m \u001b[1m2s\u001b[0m 908us/step - accuracy: 0.9428 - loss: 0.1657 - val_accuracy: 0.8804 - val_loss: 0.3514\n",
      "Epoch 49/50\n",
      "\u001b[1m1719/1719\u001b[0m \u001b[32m━━━━━━━━━━━━━━━━━━━━\u001b[0m\u001b[37m\u001b[0m \u001b[1m2s\u001b[0m 908us/step - accuracy: 0.9438 - loss: 0.1627 - val_accuracy: 0.8808 - val_loss: 0.3520\n",
      "Epoch 50/50\n",
      "\u001b[1m1719/1719\u001b[0m \u001b[32m━━━━━━━━━━━━━━━━━━━━\u001b[0m\u001b[37m\u001b[0m \u001b[1m2s\u001b[0m 1ms/step - accuracy: 0.9452 - loss: 0.1597 - val_accuracy: 0.8812 - val_loss: 0.3560\n"
     ]
    }
   ],
   "source": [
    "history = model.fit(X_train, y_train, epochs=50, validation_data=(X_valid, y_valid))"
   ]
  },
  {
   "cell_type": "code",
   "execution_count": 51,
   "metadata": {},
   "outputs": [
    {
     "data": {
      "image/png": "[encoded data removed]",
      "text/plain": [
       "<Figure size 800x500 with 1 Axes>"
      ]
     },
     "metadata": {},
     "output_type": "display_data"
    }
   ],
   "source": [
    "import matplotlib.pyplot as plt\n",
    "import pandas as pd\n",
    "pd.DataFrame(history.history).plot(\n",
    "    figsize=(8,5), xlim=[0,50], ylim=[0,1], grid=True, xlabel=\"Epoch\",\n",
    "    style=[\"r--\", \"r--.\", \"b-\", \"b-*\"])\n",
    "plt.show()"
   ]
  },
  {
   "cell_type": "code",
   "execution_count": 52,
   "metadata": {},
   "outputs": [
    {
     "name": "stdout",
     "output_type": "stream",
     "text": [
      "\u001b[1m313/313\u001b[0m \u001b[32m━━━━━━━━━━━━━━━━━━━━\u001b[0m\u001b[37m\u001b[0m \u001b[1m0s\u001b[0m 1ms/step - accuracy: 0.8806 - loss: 0.3697\n"
     ]
    },
    {
     "data": {
      "text/plain": [
       "[0.367306113243103, 0.8787999749183655]"
      ]
     },
     "execution_count": 52,
     "metadata": {},
     "output_type": "execute_result"
    }
   ],
   "source": [
    "model.evaluate(X_test, y_test)"
   ]
  },
  {
   "cell_type": "code",
   "execution_count": 57,
   "metadata": {},
   "outputs": [
    {
     "name": "stdout",
     "output_type": "stream",
     "text": [
      "The tensorboard extension is already loaded. To reload it, use:\n",
      "  %reload_ext tensorboard\n"
     ]
    }
   ],
   "source": [
    "%load_ext tensorboard\n",
    "%reload_ext tensorboard"
   ]
  },
  {
   "cell_type": "code",
   "execution_count": 58,
   "metadata": {},
   "outputs": [],
   "source": [
    "%reload_ext tensorboard\n"
   ]
  }
 ],
 "metadata": {
  "kernelspec": {
   "display_name": "Python 3",
   "language": "python",
   "name": "python3"
  },
  "language_info": {
   "codemirror_mode": {
    "name": "ipython",
    "version": 3
   },
   "file_extension": ".py",
   "mimetype": "text/x-python",
   "name": "python",
   "nbconvert_exporter": "python",
   "pygments_lexer": "ipython3",
   "version": "3.12.6"
  }
 },
 "nbformat": 4,
 "nbformat_minor": 2
}
